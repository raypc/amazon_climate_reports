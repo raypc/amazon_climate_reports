{
 "cells": [
  {
   "cell_type": "code",
   "execution_count": 1,
   "id": "beaf3774-5d3c-44ef-96a8-aa27e0ba0e23",
   "metadata": {},
   "outputs": [],
   "source": [
    "import os\n",
    "import ee\n",
    "import geemap\n",
    "import pandas as pd\n",
    "import geopandas as gpd"
   ]
  },
  {
   "cell_type": "code",
   "execution_count": 2,
   "id": "74c48141-e1c1-448b-a524-7d39f09460fe",
   "metadata": {},
   "outputs": [
    {
     "data": {
      "text/html": [
       "\n",
       "            <style>\n",
       "                .geemap-dark {\n",
       "                    --jp-widgets-color: white;\n",
       "                    --jp-widgets-label-color: white;\n",
       "                    --jp-ui-font-color1: white;\n",
       "                    --jp-layout-color2: #454545;\n",
       "                    background-color: #383838;\n",
       "                }\n",
       "                    \n",
       "                .geemap-dark .jupyter-button {\n",
       "                    --jp-layout-color3: #383838;\n",
       "                }\n",
       "                \n",
       "                .geemap-colab {\n",
       "                    background-color: var(--colab-primary-surface-color, white);\n",
       "                }\n",
       "                    \n",
       "                .geemap-colab .jupyter-button {\n",
       "                    --jp-layout-color3: var(--colab-primary-surface-color, white);\n",
       "                }\n",
       "            </style>\n",
       "            "
      ],
      "text/plain": [
       "<IPython.core.display.HTML object>"
      ]
     },
     "metadata": {},
     "output_type": "display_data"
    },
    {
     "data": {
      "text/plain": [
       "True"
      ]
     },
     "execution_count": 2,
     "metadata": {},
     "output_type": "execute_result"
    }
   ],
   "source": [
    "ee.Authenticate()"
   ]
  },
  {
   "cell_type": "code",
   "execution_count": 3,
   "id": "ea3a32ac-8d13-4eaa-b7eb-7fc75b7ac304",
   "metadata": {},
   "outputs": [
    {
     "data": {
      "text/html": [
       "\n",
       "            <style>\n",
       "                .geemap-dark {\n",
       "                    --jp-widgets-color: white;\n",
       "                    --jp-widgets-label-color: white;\n",
       "                    --jp-ui-font-color1: white;\n",
       "                    --jp-layout-color2: #454545;\n",
       "                    background-color: #383838;\n",
       "                }\n",
       "                    \n",
       "                .geemap-dark .jupyter-button {\n",
       "                    --jp-layout-color3: #383838;\n",
       "                }\n",
       "                \n",
       "                .geemap-colab {\n",
       "                    background-color: var(--colab-primary-surface-color, white);\n",
       "                }\n",
       "                    \n",
       "                .geemap-colab .jupyter-button {\n",
       "                    --jp-layout-color3: var(--colab-primary-surface-color, white);\n",
       "                }\n",
       "            </style>\n",
       "            "
      ],
      "text/plain": [
       "<IPython.core.display.HTML object>"
      ]
     },
     "metadata": {},
     "output_type": "display_data"
    }
   ],
   "source": [
    "ee.Initialize()"
   ]
  },
  {
   "cell_type": "code",
   "execution_count": 4,
   "id": "fb216a6d-67dc-4eab-85e5-4e4124dfaa2a",
   "metadata": {},
   "outputs": [
    {
     "data": {
      "text/html": [
       "\n",
       "            <style>\n",
       "                .geemap-dark {\n",
       "                    --jp-widgets-color: white;\n",
       "                    --jp-widgets-label-color: white;\n",
       "                    --jp-ui-font-color1: white;\n",
       "                    --jp-layout-color2: #454545;\n",
       "                    background-color: #383838;\n",
       "                }\n",
       "                    \n",
       "                .geemap-dark .jupyter-button {\n",
       "                    --jp-layout-color3: #383838;\n",
       "                }\n",
       "                \n",
       "                .geemap-colab {\n",
       "                    background-color: var(--colab-primary-surface-color, white);\n",
       "                }\n",
       "                    \n",
       "                .geemap-colab .jupyter-button {\n",
       "                    --jp-layout-color3: var(--colab-primary-surface-color, white);\n",
       "                }\n",
       "            </style>\n",
       "            "
      ],
      "text/plain": [
       "<IPython.core.display.HTML object>"
      ]
     },
     "metadata": {},
     "output_type": "display_data"
    }
   ],
   "source": [
    "path = \"_remote_sensing\"\n",
    "\n",
    "# Region of interest\n",
    "region = ee.Geometry.BBox(-79.49160, -18.16247, -43.69472,  10.05915)"
   ]
  },
  {
   "cell_type": "code",
   "execution_count": 6,
   "id": "e75e3b3c-9f58-4450-bf98-62e42e5dc04f",
   "metadata": {},
   "outputs": [
    {
     "data": {
      "text/html": [
       "\n",
       "            <style>\n",
       "                .geemap-dark {\n",
       "                    --jp-widgets-color: white;\n",
       "                    --jp-widgets-label-color: white;\n",
       "                    --jp-ui-font-color1: white;\n",
       "                    --jp-layout-color2: #454545;\n",
       "                    background-color: #383838;\n",
       "                }\n",
       "                    \n",
       "                .geemap-dark .jupyter-button {\n",
       "                    --jp-layout-color3: #383838;\n",
       "                }\n",
       "                \n",
       "                .geemap-colab {\n",
       "                    background-color: var(--colab-primary-surface-color, white);\n",
       "                }\n",
       "                    \n",
       "                .geemap-colab .jupyter-button {\n",
       "                    --jp-layout-color3: var(--colab-primary-surface-color, white);\n",
       "                }\n",
       "            </style>\n",
       "            "
      ],
      "text/plain": [
       "<IPython.core.display.HTML object>"
      ]
     },
     "metadata": {},
     "output_type": "display_data"
    }
   ],
   "source": [
    "# 10 years range\n",
    "time_start = \"2013-01-01\"\n",
    "time_end = \"2023-01-01\" \n",
    "\n",
    "# Define the precipitation collection and filter the collection by time range\n",
    "precipitation = ee.ImageCollection('UCSB-CHG/CHIRPS/DAILY').filterDate(time_start, time_end).select('precipitation')\n",
    "\n",
    "# Function to reclassify each daily raster where values equal to 0 (no precipitation) are set to 1, and all other values are set to 0\n",
    "def reclass_equal_to_zero(image):\n",
    "    return image.eq(0)\n",
    "\n",
    "# Function to calculate the yearly sum of days without precipitation\n",
    "def calculate_yearly_sum(year):\n",
    "    # Filter the precipitation collection for the specific year\n",
    "    yearly_collection = precipitation.filter(ee.Filter.calendarRange(year, year, 'year'))\n",
    "    \n",
    "    # Reclassify each image in the collection\n",
    "    yearly_collection_reclassified = yearly_collection.map(reclass_equal_to_zero)\n",
    "    \n",
    "    # Sum the reclassified images to get the yearly count of days without precipitation\n",
    "    yearly_sums = yearly_collection_reclassified.sum().rename(\"annual days without precipitation\")\n",
    "    \n",
    "    # Set the year as a property\n",
    "    yearly_sums = yearly_sums.set('year', year)\n",
    "    \n",
    "    return yearly_sums"
   ]
  },
  {
   "cell_type": "code",
   "execution_count": 7,
   "id": "fbd41d7c-eb1c-4dcd-a53e-5d4ed71cc6f5",
   "metadata": {},
   "outputs": [
    {
     "data": {
      "text/html": [
       "\n",
       "            <style>\n",
       "                .geemap-dark {\n",
       "                    --jp-widgets-color: white;\n",
       "                    --jp-widgets-label-color: white;\n",
       "                    --jp-ui-font-color1: white;\n",
       "                    --jp-layout-color2: #454545;\n",
       "                    background-color: #383838;\n",
       "                }\n",
       "                    \n",
       "                .geemap-dark .jupyter-button {\n",
       "                    --jp-layout-color3: #383838;\n",
       "                }\n",
       "                \n",
       "                .geemap-colab {\n",
       "                    background-color: var(--colab-primary-surface-color, white);\n",
       "                }\n",
       "                    \n",
       "                .geemap-colab .jupyter-button {\n",
       "                    --jp-layout-color3: var(--colab-primary-surface-color, white);\n",
       "                }\n",
       "            </style>\n",
       "            "
      ],
      "text/plain": [
       "<IPython.core.display.HTML object>"
      ]
     },
     "metadata": {},
     "output_type": "display_data"
    },
    {
     "data": {
      "text/html": [
       "<div><style>:root {\n",
       "  --font-color-primary: var(--jp-content-font-color0, rgba(0, 0, 0, 1));\n",
       "  --font-color-secondary: var(--jp-content-font-color2, rgba(0, 0, 0, 0.6));\n",
       "  --font-color-accent: rgba(123, 31, 162, 1);\n",
       "  --border-color: var(--jp-border-color2, #e0e0e0);\n",
       "  --background-color: var(--jp-layout-color0, white);\n",
       "  --background-color-row-even: var(--jp-layout-color1, white);\n",
       "  --background-color-row-odd: var(--jp-layout-color2, #eeeeee);\n",
       "}\n",
       "\n",
       "html[theme=\"dark\"],\n",
       "body[data-theme=\"dark\"],\n",
       "body.vscode-dark {\n",
       "  --font-color-primary: rgba(255, 255, 255, 1);\n",
       "  --font-color-secondary: rgba(255, 255, 255, 0.6);\n",
       "  --font-color-accent: rgb(173, 132, 190);\n",
       "  --border-color: #2e2e2e;\n",
       "  --background-color: #111111;\n",
       "  --background-color-row-even: #111111;\n",
       "  --background-color-row-odd: #313131;\n",
       "}\n",
       "\n",
       ".ee {\n",
       "  padding: 1em;\n",
       "  line-height: 1.5em;\n",
       "  min-width: 300px;\n",
       "  max-width: 1200px;\n",
       "  overflow-y: scroll;\n",
       "  max-height: 600px;\n",
       "  border: 1px solid var(--border-color);\n",
       "  font-family: monospace;\n",
       "}\n",
       "\n",
       ".ee li {\n",
       "  list-style-type: none;\n",
       "}\n",
       "\n",
       ".ee ul {\n",
       "  padding-left: 1.5em !important;\n",
       "  margin: 0;\n",
       "}\n",
       "\n",
       ".ee > ul {\n",
       "  padding-left: 0 !important;\n",
       "}\n",
       "\n",
       ".ee-open,\n",
       ".ee-shut {\n",
       "  color: var(--font-color-secondary);\n",
       "  cursor: pointer;\n",
       "  margin: 0;\n",
       "}\n",
       "\n",
       ".ee-open:hover,\n",
       ".ee-shut:hover {\n",
       "  color: var(--font-color-primary);\n",
       "}\n",
       "\n",
       ".ee-k {\n",
       "  color: var(--font-color-accent);\n",
       "  margin-right: 6px;\n",
       "}\n",
       "\n",
       ".ee-v {\n",
       "  color: var(--font-color-primary);\n",
       "}\n",
       "\n",
       ".ee-toggle {\n",
       "  display: none;\n",
       "}\n",
       "\n",
       ".ee-shut + ul {\n",
       "  display: none;\n",
       "}\n",
       "\n",
       ".ee-open + ul {\n",
       "  display: block;\n",
       "}\n",
       "\n",
       ".ee-shut::before {\n",
       "  display: inline-block;\n",
       "  content: \"▼\";\n",
       "  margin-right: 6px;\n",
       "  transform: rotate(-90deg);\n",
       "  transition: transform 0.2s;\n",
       "}\n",
       "\n",
       ".ee-open::before {\n",
       "  transform: rotate(0deg);\n",
       "  display: inline-block;\n",
       "  content: \"▼\";\n",
       "  margin-right: 6px;\n",
       "  transition: transform 0.2s;\n",
       "}\n",
       "</style><div class='ee'><ul><li><label class='ee-shut'>ImageCollection (10 elements)<input type='checkbox' class='ee-toggle'></label><ul><li><span class='ee-k'>type:</span><span class='ee-v'>ImageCollection</span></li><li><label class='ee-shut'>bands: []<input type='checkbox' class='ee-toggle'></label><ul></ul></li><li><label class='ee-shut'>features: List (10 elements)<input type='checkbox' class='ee-toggle'></label><ul><li><label class='ee-shut'>0: Image (1 band)<input type='checkbox' class='ee-toggle'></label><ul><li><span class='ee-k'>type:</span><span class='ee-v'>Image</span></li><li><label class='ee-shut'>bands: List (1 element)<input type='checkbox' class='ee-toggle'></label><ul><li><label class='ee-shut'>0: \"annual days without precipitation\", signed int64, EPSG:4326<input type='checkbox' class='ee-toggle'></label><ul><li><span class='ee-k'>id:</span><span class='ee-v'>annual days without precipitation</span></li><li><span class='ee-k'>crs:</span><span class='ee-v'>EPSG:4326</span></li><li><label class='ee-shut'>crs_transform: [1, 0, 0, 0, 1, 0]<input type='checkbox' class='ee-toggle'></label><ul><li><span class='ee-k'>0:</span><span class='ee-v'>1</span></li><li><span class='ee-k'>1:</span><span class='ee-v'>0</span></li><li><span class='ee-k'>2:</span><span class='ee-v'>0</span></li><li><span class='ee-k'>3:</span><span class='ee-v'>0</span></li><li><span class='ee-k'>4:</span><span class='ee-v'>1</span></li><li><span class='ee-k'>5:</span><span class='ee-v'>0</span></li></ul></li><li><label class='ee-shut'>data_type: signed int64<input type='checkbox' class='ee-toggle'></label><ul><li><span class='ee-k'>type:</span><span class='ee-v'>PixelType</span></li><li><span class='ee-k'>max:</span><span class='ee-v'>9.223372036854776e+18</span></li><li><span class='ee-k'>min:</span><span class='ee-v'>-9.223372036854776e+18</span></li><li><span class='ee-k'>precision:</span><span class='ee-v'>int</span></li></ul></li></ul></li></ul></li><li><label class='ee-shut'>properties: Object (2 properties)<input type='checkbox' class='ee-toggle'></label><ul><li><span class='ee-k'>system:index:</span><span class='ee-v'>0</span></li><li><span class='ee-k'>year:</span><span class='ee-v'>2013</span></li></ul></li></ul></li><li><label class='ee-shut'>1: Image (1 band)<input type='checkbox' class='ee-toggle'></label><ul><li><span class='ee-k'>type:</span><span class='ee-v'>Image</span></li><li><label class='ee-shut'>bands: List (1 element)<input type='checkbox' class='ee-toggle'></label><ul><li><label class='ee-shut'>0: \"annual days without precipitation\", signed int64, EPSG:4326<input type='checkbox' class='ee-toggle'></label><ul><li><span class='ee-k'>id:</span><span class='ee-v'>annual days without precipitation</span></li><li><span class='ee-k'>crs:</span><span class='ee-v'>EPSG:4326</span></li><li><label class='ee-shut'>crs_transform: [1, 0, 0, 0, 1, 0]<input type='checkbox' class='ee-toggle'></label><ul><li><span class='ee-k'>0:</span><span class='ee-v'>1</span></li><li><span class='ee-k'>1:</span><span class='ee-v'>0</span></li><li><span class='ee-k'>2:</span><span class='ee-v'>0</span></li><li><span class='ee-k'>3:</span><span class='ee-v'>0</span></li><li><span class='ee-k'>4:</span><span class='ee-v'>1</span></li><li><span class='ee-k'>5:</span><span class='ee-v'>0</span></li></ul></li><li><label class='ee-shut'>data_type: signed int64<input type='checkbox' class='ee-toggle'></label><ul><li><span class='ee-k'>type:</span><span class='ee-v'>PixelType</span></li><li><span class='ee-k'>max:</span><span class='ee-v'>9.223372036854776e+18</span></li><li><span class='ee-k'>min:</span><span class='ee-v'>-9.223372036854776e+18</span></li><li><span class='ee-k'>precision:</span><span class='ee-v'>int</span></li></ul></li></ul></li></ul></li><li><label class='ee-shut'>properties: Object (2 properties)<input type='checkbox' class='ee-toggle'></label><ul><li><span class='ee-k'>system:index:</span><span class='ee-v'>1</span></li><li><span class='ee-k'>year:</span><span class='ee-v'>2014</span></li></ul></li></ul></li><li><label class='ee-shut'>2: Image (1 band)<input type='checkbox' class='ee-toggle'></label><ul><li><span class='ee-k'>type:</span><span class='ee-v'>Image</span></li><li><label class='ee-shut'>bands: List (1 element)<input type='checkbox' class='ee-toggle'></label><ul><li><label class='ee-shut'>0: \"annual days without precipitation\", signed int64, EPSG:4326<input type='checkbox' class='ee-toggle'></label><ul><li><span class='ee-k'>id:</span><span class='ee-v'>annual days without precipitation</span></li><li><span class='ee-k'>crs:</span><span class='ee-v'>EPSG:4326</span></li><li><label class='ee-shut'>crs_transform: [1, 0, 0, 0, 1, 0]<input type='checkbox' class='ee-toggle'></label><ul><li><span class='ee-k'>0:</span><span class='ee-v'>1</span></li><li><span class='ee-k'>1:</span><span class='ee-v'>0</span></li><li><span class='ee-k'>2:</span><span class='ee-v'>0</span></li><li><span class='ee-k'>3:</span><span class='ee-v'>0</span></li><li><span class='ee-k'>4:</span><span class='ee-v'>1</span></li><li><span class='ee-k'>5:</span><span class='ee-v'>0</span></li></ul></li><li><label class='ee-shut'>data_type: signed int64<input type='checkbox' class='ee-toggle'></label><ul><li><span class='ee-k'>type:</span><span class='ee-v'>PixelType</span></li><li><span class='ee-k'>max:</span><span class='ee-v'>9.223372036854776e+18</span></li><li><span class='ee-k'>min:</span><span class='ee-v'>-9.223372036854776e+18</span></li><li><span class='ee-k'>precision:</span><span class='ee-v'>int</span></li></ul></li></ul></li></ul></li><li><label class='ee-shut'>properties: Object (2 properties)<input type='checkbox' class='ee-toggle'></label><ul><li><span class='ee-k'>system:index:</span><span class='ee-v'>2</span></li><li><span class='ee-k'>year:</span><span class='ee-v'>2015</span></li></ul></li></ul></li><li><label class='ee-shut'>3: Image (1 band)<input type='checkbox' class='ee-toggle'></label><ul><li><span class='ee-k'>type:</span><span class='ee-v'>Image</span></li><li><label class='ee-shut'>bands: List (1 element)<input type='checkbox' class='ee-toggle'></label><ul><li><label class='ee-shut'>0: \"annual days without precipitation\", signed int64, EPSG:4326<input type='checkbox' class='ee-toggle'></label><ul><li><span class='ee-k'>id:</span><span class='ee-v'>annual days without precipitation</span></li><li><span class='ee-k'>crs:</span><span class='ee-v'>EPSG:4326</span></li><li><label class='ee-shut'>crs_transform: [1, 0, 0, 0, 1, 0]<input type='checkbox' class='ee-toggle'></label><ul><li><span class='ee-k'>0:</span><span class='ee-v'>1</span></li><li><span class='ee-k'>1:</span><span class='ee-v'>0</span></li><li><span class='ee-k'>2:</span><span class='ee-v'>0</span></li><li><span class='ee-k'>3:</span><span class='ee-v'>0</span></li><li><span class='ee-k'>4:</span><span class='ee-v'>1</span></li><li><span class='ee-k'>5:</span><span class='ee-v'>0</span></li></ul></li><li><label class='ee-shut'>data_type: signed int64<input type='checkbox' class='ee-toggle'></label><ul><li><span class='ee-k'>type:</span><span class='ee-v'>PixelType</span></li><li><span class='ee-k'>max:</span><span class='ee-v'>9.223372036854776e+18</span></li><li><span class='ee-k'>min:</span><span class='ee-v'>-9.223372036854776e+18</span></li><li><span class='ee-k'>precision:</span><span class='ee-v'>int</span></li></ul></li></ul></li></ul></li><li><label class='ee-shut'>properties: Object (2 properties)<input type='checkbox' class='ee-toggle'></label><ul><li><span class='ee-k'>system:index:</span><span class='ee-v'>3</span></li><li><span class='ee-k'>year:</span><span class='ee-v'>2016</span></li></ul></li></ul></li><li><label class='ee-shut'>4: Image (1 band)<input type='checkbox' class='ee-toggle'></label><ul><li><span class='ee-k'>type:</span><span class='ee-v'>Image</span></li><li><label class='ee-shut'>bands: List (1 element)<input type='checkbox' class='ee-toggle'></label><ul><li><label class='ee-shut'>0: \"annual days without precipitation\", signed int64, EPSG:4326<input type='checkbox' class='ee-toggle'></label><ul><li><span class='ee-k'>id:</span><span class='ee-v'>annual days without precipitation</span></li><li><span class='ee-k'>crs:</span><span class='ee-v'>EPSG:4326</span></li><li><label class='ee-shut'>crs_transform: [1, 0, 0, 0, 1, 0]<input type='checkbox' class='ee-toggle'></label><ul><li><span class='ee-k'>0:</span><span class='ee-v'>1</span></li><li><span class='ee-k'>1:</span><span class='ee-v'>0</span></li><li><span class='ee-k'>2:</span><span class='ee-v'>0</span></li><li><span class='ee-k'>3:</span><span class='ee-v'>0</span></li><li><span class='ee-k'>4:</span><span class='ee-v'>1</span></li><li><span class='ee-k'>5:</span><span class='ee-v'>0</span></li></ul></li><li><label class='ee-shut'>data_type: signed int64<input type='checkbox' class='ee-toggle'></label><ul><li><span class='ee-k'>type:</span><span class='ee-v'>PixelType</span></li><li><span class='ee-k'>max:</span><span class='ee-v'>9.223372036854776e+18</span></li><li><span class='ee-k'>min:</span><span class='ee-v'>-9.223372036854776e+18</span></li><li><span class='ee-k'>precision:</span><span class='ee-v'>int</span></li></ul></li></ul></li></ul></li><li><label class='ee-shut'>properties: Object (2 properties)<input type='checkbox' class='ee-toggle'></label><ul><li><span class='ee-k'>system:index:</span><span class='ee-v'>4</span></li><li><span class='ee-k'>year:</span><span class='ee-v'>2017</span></li></ul></li></ul></li><li><label class='ee-shut'>5: Image (1 band)<input type='checkbox' class='ee-toggle'></label><ul><li><span class='ee-k'>type:</span><span class='ee-v'>Image</span></li><li><label class='ee-shut'>bands: List (1 element)<input type='checkbox' class='ee-toggle'></label><ul><li><label class='ee-shut'>0: \"annual days without precipitation\", signed int64, EPSG:4326<input type='checkbox' class='ee-toggle'></label><ul><li><span class='ee-k'>id:</span><span class='ee-v'>annual days without precipitation</span></li><li><span class='ee-k'>crs:</span><span class='ee-v'>EPSG:4326</span></li><li><label class='ee-shut'>crs_transform: [1, 0, 0, 0, 1, 0]<input type='checkbox' class='ee-toggle'></label><ul><li><span class='ee-k'>0:</span><span class='ee-v'>1</span></li><li><span class='ee-k'>1:</span><span class='ee-v'>0</span></li><li><span class='ee-k'>2:</span><span class='ee-v'>0</span></li><li><span class='ee-k'>3:</span><span class='ee-v'>0</span></li><li><span class='ee-k'>4:</span><span class='ee-v'>1</span></li><li><span class='ee-k'>5:</span><span class='ee-v'>0</span></li></ul></li><li><label class='ee-shut'>data_type: signed int64<input type='checkbox' class='ee-toggle'></label><ul><li><span class='ee-k'>type:</span><span class='ee-v'>PixelType</span></li><li><span class='ee-k'>max:</span><span class='ee-v'>9.223372036854776e+18</span></li><li><span class='ee-k'>min:</span><span class='ee-v'>-9.223372036854776e+18</span></li><li><span class='ee-k'>precision:</span><span class='ee-v'>int</span></li></ul></li></ul></li></ul></li><li><label class='ee-shut'>properties: Object (2 properties)<input type='checkbox' class='ee-toggle'></label><ul><li><span class='ee-k'>system:index:</span><span class='ee-v'>5</span></li><li><span class='ee-k'>year:</span><span class='ee-v'>2018</span></li></ul></li></ul></li><li><label class='ee-shut'>6: Image (1 band)<input type='checkbox' class='ee-toggle'></label><ul><li><span class='ee-k'>type:</span><span class='ee-v'>Image</span></li><li><label class='ee-shut'>bands: List (1 element)<input type='checkbox' class='ee-toggle'></label><ul><li><label class='ee-shut'>0: \"annual days without precipitation\", signed int64, EPSG:4326<input type='checkbox' class='ee-toggle'></label><ul><li><span class='ee-k'>id:</span><span class='ee-v'>annual days without precipitation</span></li><li><span class='ee-k'>crs:</span><span class='ee-v'>EPSG:4326</span></li><li><label class='ee-shut'>crs_transform: [1, 0, 0, 0, 1, 0]<input type='checkbox' class='ee-toggle'></label><ul><li><span class='ee-k'>0:</span><span class='ee-v'>1</span></li><li><span class='ee-k'>1:</span><span class='ee-v'>0</span></li><li><span class='ee-k'>2:</span><span class='ee-v'>0</span></li><li><span class='ee-k'>3:</span><span class='ee-v'>0</span></li><li><span class='ee-k'>4:</span><span class='ee-v'>1</span></li><li><span class='ee-k'>5:</span><span class='ee-v'>0</span></li></ul></li><li><label class='ee-shut'>data_type: signed int64<input type='checkbox' class='ee-toggle'></label><ul><li><span class='ee-k'>type:</span><span class='ee-v'>PixelType</span></li><li><span class='ee-k'>max:</span><span class='ee-v'>9.223372036854776e+18</span></li><li><span class='ee-k'>min:</span><span class='ee-v'>-9.223372036854776e+18</span></li><li><span class='ee-k'>precision:</span><span class='ee-v'>int</span></li></ul></li></ul></li></ul></li><li><label class='ee-shut'>properties: Object (2 properties)<input type='checkbox' class='ee-toggle'></label><ul><li><span class='ee-k'>system:index:</span><span class='ee-v'>6</span></li><li><span class='ee-k'>year:</span><span class='ee-v'>2019</span></li></ul></li></ul></li><li><label class='ee-shut'>7: Image (1 band)<input type='checkbox' class='ee-toggle'></label><ul><li><span class='ee-k'>type:</span><span class='ee-v'>Image</span></li><li><label class='ee-shut'>bands: List (1 element)<input type='checkbox' class='ee-toggle'></label><ul><li><label class='ee-shut'>0: \"annual days without precipitation\", signed int64, EPSG:4326<input type='checkbox' class='ee-toggle'></label><ul><li><span class='ee-k'>id:</span><span class='ee-v'>annual days without precipitation</span></li><li><span class='ee-k'>crs:</span><span class='ee-v'>EPSG:4326</span></li><li><label class='ee-shut'>crs_transform: [1, 0, 0, 0, 1, 0]<input type='checkbox' class='ee-toggle'></label><ul><li><span class='ee-k'>0:</span><span class='ee-v'>1</span></li><li><span class='ee-k'>1:</span><span class='ee-v'>0</span></li><li><span class='ee-k'>2:</span><span class='ee-v'>0</span></li><li><span class='ee-k'>3:</span><span class='ee-v'>0</span></li><li><span class='ee-k'>4:</span><span class='ee-v'>1</span></li><li><span class='ee-k'>5:</span><span class='ee-v'>0</span></li></ul></li><li><label class='ee-shut'>data_type: signed int64<input type='checkbox' class='ee-toggle'></label><ul><li><span class='ee-k'>type:</span><span class='ee-v'>PixelType</span></li><li><span class='ee-k'>max:</span><span class='ee-v'>9.223372036854776e+18</span></li><li><span class='ee-k'>min:</span><span class='ee-v'>-9.223372036854776e+18</span></li><li><span class='ee-k'>precision:</span><span class='ee-v'>int</span></li></ul></li></ul></li></ul></li><li><label class='ee-shut'>properties: Object (2 properties)<input type='checkbox' class='ee-toggle'></label><ul><li><span class='ee-k'>system:index:</span><span class='ee-v'>7</span></li><li><span class='ee-k'>year:</span><span class='ee-v'>2020</span></li></ul></li></ul></li><li><label class='ee-shut'>8: Image (1 band)<input type='checkbox' class='ee-toggle'></label><ul><li><span class='ee-k'>type:</span><span class='ee-v'>Image</span></li><li><label class='ee-shut'>bands: List (1 element)<input type='checkbox' class='ee-toggle'></label><ul><li><label class='ee-shut'>0: \"annual days without precipitation\", signed int64, EPSG:4326<input type='checkbox' class='ee-toggle'></label><ul><li><span class='ee-k'>id:</span><span class='ee-v'>annual days without precipitation</span></li><li><span class='ee-k'>crs:</span><span class='ee-v'>EPSG:4326</span></li><li><label class='ee-shut'>crs_transform: [1, 0, 0, 0, 1, 0]<input type='checkbox' class='ee-toggle'></label><ul><li><span class='ee-k'>0:</span><span class='ee-v'>1</span></li><li><span class='ee-k'>1:</span><span class='ee-v'>0</span></li><li><span class='ee-k'>2:</span><span class='ee-v'>0</span></li><li><span class='ee-k'>3:</span><span class='ee-v'>0</span></li><li><span class='ee-k'>4:</span><span class='ee-v'>1</span></li><li><span class='ee-k'>5:</span><span class='ee-v'>0</span></li></ul></li><li><label class='ee-shut'>data_type: signed int64<input type='checkbox' class='ee-toggle'></label><ul><li><span class='ee-k'>type:</span><span class='ee-v'>PixelType</span></li><li><span class='ee-k'>max:</span><span class='ee-v'>9.223372036854776e+18</span></li><li><span class='ee-k'>min:</span><span class='ee-v'>-9.223372036854776e+18</span></li><li><span class='ee-k'>precision:</span><span class='ee-v'>int</span></li></ul></li></ul></li></ul></li><li><label class='ee-shut'>properties: Object (2 properties)<input type='checkbox' class='ee-toggle'></label><ul><li><span class='ee-k'>system:index:</span><span class='ee-v'>8</span></li><li><span class='ee-k'>year:</span><span class='ee-v'>2021</span></li></ul></li></ul></li><li><label class='ee-shut'>9: Image (1 band)<input type='checkbox' class='ee-toggle'></label><ul><li><span class='ee-k'>type:</span><span class='ee-v'>Image</span></li><li><label class='ee-shut'>bands: List (1 element)<input type='checkbox' class='ee-toggle'></label><ul><li><label class='ee-shut'>0: \"annual days without precipitation\", signed int64, EPSG:4326<input type='checkbox' class='ee-toggle'></label><ul><li><span class='ee-k'>id:</span><span class='ee-v'>annual days without precipitation</span></li><li><span class='ee-k'>crs:</span><span class='ee-v'>EPSG:4326</span></li><li><label class='ee-shut'>crs_transform: [1, 0, 0, 0, 1, 0]<input type='checkbox' class='ee-toggle'></label><ul><li><span class='ee-k'>0:</span><span class='ee-v'>1</span></li><li><span class='ee-k'>1:</span><span class='ee-v'>0</span></li><li><span class='ee-k'>2:</span><span class='ee-v'>0</span></li><li><span class='ee-k'>3:</span><span class='ee-v'>0</span></li><li><span class='ee-k'>4:</span><span class='ee-v'>1</span></li><li><span class='ee-k'>5:</span><span class='ee-v'>0</span></li></ul></li><li><label class='ee-shut'>data_type: signed int64<input type='checkbox' class='ee-toggle'></label><ul><li><span class='ee-k'>type:</span><span class='ee-v'>PixelType</span></li><li><span class='ee-k'>max:</span><span class='ee-v'>9.223372036854776e+18</span></li><li><span class='ee-k'>min:</span><span class='ee-v'>-9.223372036854776e+18</span></li><li><span class='ee-k'>precision:</span><span class='ee-v'>int</span></li></ul></li></ul></li></ul></li><li><label class='ee-shut'>properties: Object (2 properties)<input type='checkbox' class='ee-toggle'></label><ul><li><span class='ee-k'>system:index:</span><span class='ee-v'>9</span></li><li><span class='ee-k'>year:</span><span class='ee-v'>2022</span></li></ul></li></ul></li></ul></li></ul></li></ul></div><script>function toggleHeader() {\n",
       "    const parent = this.parentElement;\n",
       "    parent.className = parent.className === \"ee-open\" ? \"ee-shut\" : \"ee-open\";\n",
       "}\n",
       "\n",
       "for (let c of document.getElementsByClassName(\"ee-toggle\")) {\n",
       "    c.onclick = toggleHeader;\n",
       "}</script></div>"
      ],
      "text/plain": [
       "<ee.imagecollection.ImageCollection at 0x2e38d0e1370>"
      ]
     },
     "execution_count": 7,
     "metadata": {},
     "output_type": "execute_result"
    }
   ],
   "source": [
    "# Map over the years and calculate the yearly sum for each year\n",
    "annual_days_without_precipitation_list = list(map(calculate_yearly_sum, range(2013, 2023)))\n",
    "\n",
    "# Convert the list of images to an ImageCollection\n",
    "annual_days_without_precipitation = ee.ImageCollection.fromImages(annual_days_without_precipitation_list)\n",
    "annual_days_without_precipitation"
   ]
  },
  {
   "cell_type": "code",
   "execution_count": 8,
   "id": "13ebb9ee-3bfc-457f-96ce-e4754b799c22",
   "metadata": {},
   "outputs": [
    {
     "data": {
      "text/html": [
       "\n",
       "            <style>\n",
       "                .geemap-dark {\n",
       "                    --jp-widgets-color: white;\n",
       "                    --jp-widgets-label-color: white;\n",
       "                    --jp-ui-font-color1: white;\n",
       "                    --jp-layout-color2: #454545;\n",
       "                    background-color: #383838;\n",
       "                }\n",
       "                    \n",
       "                .geemap-dark .jupyter-button {\n",
       "                    --jp-layout-color3: #383838;\n",
       "                }\n",
       "                \n",
       "                .geemap-colab {\n",
       "                    background-color: var(--colab-primary-surface-color, white);\n",
       "                }\n",
       "                    \n",
       "                .geemap-colab .jupyter-button {\n",
       "                    --jp-layout-color3: var(--colab-primary-surface-color, white);\n",
       "                }\n",
       "            </style>\n",
       "            "
      ],
      "text/plain": [
       "<IPython.core.display.HTML object>"
      ]
     },
     "metadata": {},
     "output_type": "display_data"
    }
   ],
   "source": [
    "# Calculate the mean of yearly sums\n",
    "mean_yearly_sums = annual_days_without_precipitation.mean()\n",
    "# Calculate the standard deviation of yearly sums\n",
    "std_dev_yearly_sums = annual_days_without_precipitation.reduce(ee.Reducer.stdDev())\n",
    "\n",
    "## Calculate the threshold: mean plus 2 standard deviations\n",
    "mean_plus_2std = mean_yearly_sums.add(std_dev_yearly_sums.multiply(2))"
   ]
  },
  {
   "cell_type": "code",
   "execution_count": 9,
   "id": "25d1b6a0-2538-4e4a-9cad-8bb34bcd2fba",
   "metadata": {},
   "outputs": [
    {
     "data": {
      "text/html": [
       "\n",
       "            <style>\n",
       "                .geemap-dark {\n",
       "                    --jp-widgets-color: white;\n",
       "                    --jp-widgets-label-color: white;\n",
       "                    --jp-ui-font-color1: white;\n",
       "                    --jp-layout-color2: #454545;\n",
       "                    background-color: #383838;\n",
       "                }\n",
       "                    \n",
       "                .geemap-dark .jupyter-button {\n",
       "                    --jp-layout-color3: #383838;\n",
       "                }\n",
       "                \n",
       "                .geemap-colab {\n",
       "                    background-color: var(--colab-primary-surface-color, white);\n",
       "                }\n",
       "                    \n",
       "                .geemap-colab .jupyter-button {\n",
       "                    --jp-layout-color3: var(--colab-primary-surface-color, white);\n",
       "                }\n",
       "            </style>\n",
       "            "
      ],
      "text/plain": [
       "<IPython.core.display.HTML object>"
      ]
     },
     "metadata": {},
     "output_type": "display_data"
    }
   ],
   "source": [
    "# Function to subtract the mean plus 2 standard deviations from each yearly sums raster\n",
    "def subtract_mean_plus_2std(image):\n",
    "    return image.subtract(mean_plus_2std).set('system:time_start', image.get('system:time_start'))\n",
    "\n",
    "# Function to reclassify each raster to get values above\n",
    "def reclass_above(image):\n",
    "    return image.gt(0)  # Create a binary mask where values greater than 0 are set to 1, and others are set to 0"
   ]
  },
  {
   "cell_type": "code",
   "execution_count": 10,
   "id": "c1f013e8-dcf1-4e01-b8ac-74cbe71d6ee8",
   "metadata": {},
   "outputs": [
    {
     "data": {
      "text/html": [
       "\n",
       "            <style>\n",
       "                .geemap-dark {\n",
       "                    --jp-widgets-color: white;\n",
       "                    --jp-widgets-label-color: white;\n",
       "                    --jp-ui-font-color1: white;\n",
       "                    --jp-layout-color2: #454545;\n",
       "                    background-color: #383838;\n",
       "                }\n",
       "                    \n",
       "                .geemap-dark .jupyter-button {\n",
       "                    --jp-layout-color3: #383838;\n",
       "                }\n",
       "                \n",
       "                .geemap-colab {\n",
       "                    background-color: var(--colab-primary-surface-color, white);\n",
       "                }\n",
       "                    \n",
       "                .geemap-colab .jupyter-button {\n",
       "                    --jp-layout-color3: var(--colab-primary-surface-color, white);\n",
       "                }\n",
       "            </style>\n",
       "            "
      ],
      "text/plain": [
       "<IPython.core.display.HTML object>"
      ]
     },
     "metadata": {},
     "output_type": "display_data"
    }
   ],
   "source": [
    "# Number of years with precipitation above the mean plus 2 standard deviations from 2013 to 2022\n",
    "anomaly_mean_plus_2std = annual_days_without_precipitation.map(subtract_mean_plus_2std) \n",
    "anomaly_mean_plus_2std = anomaly_mean_plus_2std.map(reclass_above).reduce(ee.Reducer.sum())"
   ]
  },
  {
   "cell_type": "code",
   "execution_count": 14,
   "id": "d4a916a5-29ff-4bbc-8390-f1b115c734ae",
   "metadata": {},
   "outputs": [
    {
     "data": {
      "text/html": [
       "\n",
       "            <style>\n",
       "                .geemap-dark {\n",
       "                    --jp-widgets-color: white;\n",
       "                    --jp-widgets-label-color: white;\n",
       "                    --jp-ui-font-color1: white;\n",
       "                    --jp-layout-color2: #454545;\n",
       "                    background-color: #383838;\n",
       "                }\n",
       "                    \n",
       "                .geemap-dark .jupyter-button {\n",
       "                    --jp-layout-color3: #383838;\n",
       "                }\n",
       "                \n",
       "                .geemap-colab {\n",
       "                    background-color: var(--colab-primary-surface-color, white);\n",
       "                }\n",
       "                    \n",
       "                .geemap-colab .jupyter-button {\n",
       "                    --jp-layout-color3: var(--colab-primary-surface-color, white);\n",
       "                }\n",
       "            </style>\n",
       "            "
      ],
      "text/plain": [
       "<IPython.core.display.HTML object>"
      ]
     },
     "metadata": {},
     "output_type": "display_data"
    }
   ],
   "source": [
    "#anomaly_mean_plus_2std.getInfo()"
   ]
  },
  {
   "cell_type": "code",
   "execution_count": 11,
   "id": "f097043e-5b53-4cea-b2d8-a0fa6474f81a",
   "metadata": {
    "scrolled": true
   },
   "outputs": [
    {
     "data": {
      "text/html": [
       "\n",
       "            <style>\n",
       "                .geemap-dark {\n",
       "                    --jp-widgets-color: white;\n",
       "                    --jp-widgets-label-color: white;\n",
       "                    --jp-ui-font-color1: white;\n",
       "                    --jp-layout-color2: #454545;\n",
       "                    background-color: #383838;\n",
       "                }\n",
       "                    \n",
       "                .geemap-dark .jupyter-button {\n",
       "                    --jp-layout-color3: #383838;\n",
       "                }\n",
       "                \n",
       "                .geemap-colab {\n",
       "                    background-color: var(--colab-primary-surface-color, white);\n",
       "                }\n",
       "                    \n",
       "                .geemap-colab .jupyter-button {\n",
       "                    --jp-layout-color3: var(--colab-primary-surface-color, white);\n",
       "                }\n",
       "            </style>\n",
       "            "
      ],
      "text/plain": [
       "<IPython.core.display.HTML object>"
      ]
     },
     "metadata": {},
     "output_type": "display_data"
    },
    {
     "data": {
      "application/vnd.jupyter.widget-view+json": {
       "model_id": "8f678f5b3a214e05bf01f83f4fb96ba0",
       "version_major": 2,
       "version_minor": 0
      },
      "text/plain": [
       "Map(center=[0, 0], controls=(WidgetControl(options=['position', 'transparent_bg'], widget=SearchDataGUI(childr…"
      ]
     },
     "execution_count": 11,
     "metadata": {},
     "output_type": "execute_result"
    }
   ],
   "source": [
    "# Load Amazon boundary\n",
    "amazonia = gpd.read_file(os.path.join(path, 'amazonia_boundary.shp'))\n",
    "amazonia = amazonia.to_crs(4326)\n",
    "\n",
    "vis_params_mean = {'min': 0, 'max': 2, 'palette': ['0000FF', '00FF00', 'FF0000']} # Define visualization parameters\n",
    "Map = geemap.Map() # Create a Map\n",
    "Map.addLayer(anomaly_mean_plus_2std, vis_params_mean, '') # Add the droughts anomalies layer\n",
    "Map.add_gdf(amazonia, layer_name = 'Amazon') # Add the Amazon boundary to the map\n",
    "Map # Display the map"
   ]
  },
  {
   "cell_type": "code",
   "execution_count": 12,
   "id": "063a53bd-58d8-47dc-abb8-47ddc92730d0",
   "metadata": {},
   "outputs": [
    {
     "data": {
      "text/html": [
       "\n",
       "            <style>\n",
       "                .geemap-dark {\n",
       "                    --jp-widgets-color: white;\n",
       "                    --jp-widgets-label-color: white;\n",
       "                    --jp-ui-font-color1: white;\n",
       "                    --jp-layout-color2: #454545;\n",
       "                    background-color: #383838;\n",
       "                }\n",
       "                    \n",
       "                .geemap-dark .jupyter-button {\n",
       "                    --jp-layout-color3: #383838;\n",
       "                }\n",
       "                \n",
       "                .geemap-colab {\n",
       "                    background-color: var(--colab-primary-surface-color, white);\n",
       "                }\n",
       "                    \n",
       "                .geemap-colab .jupyter-button {\n",
       "                    --jp-layout-color3: var(--colab-primary-surface-color, white);\n",
       "                }\n",
       "            </style>\n",
       "            "
      ],
      "text/plain": [
       "<IPython.core.display.HTML object>"
      ]
     },
     "metadata": {},
     "output_type": "display_data"
    }
   ],
   "source": [
    "# Clip the anomaly_mean_plus_2std raster using the region of interest\n",
    "anomaly_mean_plus_2std_clip = anomaly_mean_plus_2std.clip(region).int8()\n",
    "\n",
    "# Creates a batch task to export an Image as a raster to Drive\n",
    "task = ee.batch.Export.image.toDrive(\n",
    "    image = anomaly_mean_plus_2std_clip,\n",
    "    description = 'drought_anomalies_mean_plus_2std_clip',\n",
    "    folder = 'fulbright',\n",
    "    region = region,\n",
    "    scale = 5566,\n",
    "    crs = 'EPSG:4326',\n",
    "    maxPixels = 1e13\n",
    ")\n",
    "task.start()"
   ]
  }
 ],
 "metadata": {
  "kernelspec": {
   "display_name": "Python 3 (ipykernel)",
   "language": "python",
   "name": "python3"
  },
  "language_info": {
   "codemirror_mode": {
    "name": "ipython",
    "version": 3
   },
   "file_extension": ".py",
   "mimetype": "text/x-python",
   "name": "python",
   "nbconvert_exporter": "python",
   "pygments_lexer": "ipython3",
   "version": "3.9.18"
  }
 },
 "nbformat": 4,
 "nbformat_minor": 5
}
